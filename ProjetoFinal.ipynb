{
 "cells": [
  {
   "cell_type": "markdown",
   "id": "452550da",
   "metadata": {},
   "source": [
    "# Projeto Final\n",
    "## Matheus Freitas Martins"
   ]
  },
  {
   "cell_type": "markdown",
   "id": "fc9807a3",
   "metadata": {},
   "source": [
    "## Importando dependências "
   ]
  },
  {
   "cell_type": "code",
   "execution_count": 307,
   "id": "e59b7ec7",
   "metadata": {},
   "outputs": [],
   "source": [
    "import pandas as pd\n",
    "import requests\n",
    "from sklearn.model_selection import train_test_split\n",
    "from sklearn.ensemble import RandomForestRegressor\n",
    "from sklearn.metrics import mean_squared_error\n",
    "from sklearn.preprocessing import OneHotEncoder, StandardScaler\n",
    "from sklearn.compose import ColumnTransformer\n",
    "from sklearn.pipeline import Pipeline"
   ]
  },
  {
   "cell_type": "markdown",
   "id": "14fa4286",
   "metadata": {},
   "source": [
    "## Funções "
   ]
  },
  {
   "cell_type": "code",
   "execution_count": 308,
   "id": "68b9209a",
   "metadata": {},
   "outputs": [],
   "source": [
    "def get_categories(site_id):\n",
    "    url = f\"https://api.mercadolibre.com/sites/{site_id}/categories\"\n",
    "    response = requests.get(url)\n",
    "    data = response.json()\n",
    "    return data\n",
    "\n",
    "def search_items(category_id, offset=0):\n",
    "    url = \"https://api.mercadolibre.com/sites/MLB/search\"\n",
    "    params = {\n",
    "        \"category\": category_id,\n",
    "        \"offset\": offset  \n",
    "    }\n",
    "    response = requests.get(url, params=params)\n",
    "    data = response.json()\n",
    "    return data['results']\n",
    "\n",
    "def get_items_for_categories(category_ids, items_per_category=1000):\n",
    "    df = pd.DataFrame()  # Dataframe para armazenar os dados\n",
    "\n",
    "    # Iterando sobre cada ID de categoria na lista\n",
    "    for category_id in category_ids:\n",
    "        print(f\"Buscando produtos da categoria {category_id}...\")\n",
    "        \n",
    "        # Como o Mercado Livre retorna um máximo de 50 itens por pedido, precisamos fazer várias solicitações\n",
    "        for i in range(0, items_per_category, 50):\n",
    "            # Buscando produtos da categoria\n",
    "            items = search_items(category_id, offset=i)\n",
    "            \n",
    "            # Adicionando a categoria aos itens\n",
    "            for item in items:\n",
    "                item['source_category'] = category_id\n",
    "            \n",
    "            # Adicionando ao dataframe\n",
    "            df = pd.concat([df, pd.DataFrame(items)], ignore_index=True)\n",
    "    \n",
    "    return df\n",
    "\n",
    "# Calcula o preço médio, mínimo e máximo para a categoria\n",
    "def analise_precos(df_categoria):\n",
    "    resumo_preco = df_categoria['price'].agg(['mean', 'min', 'max'])\n",
    "    return resumo_preco\n",
    "\n",
    "# Ordena os produtos pela quantidade vendida e retorna o mais vendido\n",
    "def analise_popularidade(df_categoria):\n",
    "    produto_popular = df_categoria.sort_values('sold_quantity', ascending=False).iloc[0]\n",
    "    return produto_popular['title'], produto_popular['sold_quantity'], produto_popular['price']\n",
    "\n",
    "def analise_categoria(df, categoria):\n",
    "    # Filtra o dataframe para a categoria selecionada\n",
    "    df_categoria = df[df['source_category'] == categoria]\n",
    "    \n",
    "    # Executa as análises de preço e popularidade\n",
    "    resumo_preco = analise_precos(df_categoria)\n",
    "    nome_produto_popular, vendas_popular, preco_produto_popular = analise_popularidade(df_categoria)\n",
    "    \n",
    "    print(f'Categoria: {categoria}')\n",
    "    print(f'Preço médio: {resumo_preco[\"mean\"]:.2f}')\n",
    "    print(f'Preço mínimo: {resumo_preco[\"min\"]:.2f}')\n",
    "    print(f'Preço máximo: {resumo_preco[\"max\"]:.2f}')\n",
    "    print(f'Produto mais popular: {nome_produto_popular}')\n",
    "    print(f'Quantidade vendida do produto mais popular: {vendas_popular}')\n",
    "    print(f'Preço do produto mais popular: {preco_produto_popular:.2f}')\n",
    "    print('\\n')"
   ]
  },
  {
   "cell_type": "code",
   "execution_count": 309,
   "id": "068b4724",
   "metadata": {},
   "outputs": [
    {
     "name": "stdout",
     "output_type": "stream",
     "text": [
      "ID: MLB5672, Nome: Acessórios para Veículos\n",
      "ID: MLB271599, Nome: Agro\n",
      "ID: MLB1403, Nome: Alimentos e Bebidas\n",
      "ID: MLB1071, Nome: Animais\n",
      "ID: MLB1367, Nome: Antiguidades e Coleções\n",
      "ID: MLB1368, Nome: Arte, Papelaria e Armarinho\n",
      "ID: MLB1384, Nome: Bebês\n",
      "ID: MLB1246, Nome: Beleza e Cuidado Pessoal\n",
      "ID: MLB1132, Nome: Brinquedos e Hobbies\n",
      "ID: MLB1430, Nome: Calçados, Roupas e Bolsas\n",
      "ID: MLB1039, Nome: Câmeras e Acessórios\n",
      "ID: MLB1743, Nome: Carros, Motos e Outros\n",
      "ID: MLB1574, Nome: Casa, Móveis e Decoração\n",
      "ID: MLB1051, Nome: Celulares e Telefones\n",
      "ID: MLB1500, Nome: Construção\n",
      "ID: MLB5726, Nome: Eletrodomésticos\n",
      "ID: MLB1000, Nome: Eletrônicos, Áudio e Vídeo\n",
      "ID: MLB1276, Nome: Esportes e Fitness\n",
      "ID: MLB263532, Nome: Ferramentas\n",
      "ID: MLB12404, Nome: Festas e Lembrancinhas\n",
      "ID: MLB1144, Nome: Games\n",
      "ID: MLB1459, Nome: Imóveis\n",
      "ID: MLB1499, Nome: Indústria e Comércio\n",
      "ID: MLB1648, Nome: Informática\n",
      "ID: MLB218519, Nome: Ingressos\n",
      "ID: MLB1182, Nome: Instrumentos Musicais\n",
      "ID: MLB3937, Nome: Joias e Relógios\n",
      "ID: MLB1196, Nome: Livros, Revistas e Comics\n",
      "ID: MLB1168, Nome: Música, Filmes e Seriados\n",
      "ID: MLB264586, Nome: Saúde\n",
      "ID: MLB1540, Nome: Serviços\n",
      "ID: MLB1953, Nome: Mais Categorias\n"
     ]
    }
   ],
   "source": [
    "site_id = 'MLB'  # ID do site do Mercado Livre Brasil\n",
    "categories = get_categories(site_id)\n",
    "\n",
    "# Imprime o ID e o nome de todas as categorias\n",
    "for category in categories:\n",
    "    print(f\"ID: {category['id']}, Nome: {category['name']}\")"
   ]
  },
  {
   "cell_type": "markdown",
   "id": "d83989b8",
   "metadata": {},
   "source": [
    "## Lista dos IDs de categorias desejadas"
   ]
  },
  {
   "cell_type": "code",
   "execution_count": 310,
   "id": "c1152b26",
   "metadata": {},
   "outputs": [],
   "source": [
    "#desired_categories = ['MLB1384', 'MLB1246', 'MLB1132', 'MLB1430', 'MLB3937', 'MLB1648', 'MLB1051', 'MLB1574', 'MLB12404', 'MLB1000', 'MLB1276']  # Insira seus IDs de categoria desejados aqui"
   ]
  },
  {
   "cell_type": "markdown",
   "id": "07488142",
   "metadata": {},
   "source": [
    "## Criar dataframe com base nas categorias escolhidas"
   ]
  },
  {
   "cell_type": "code",
   "execution_count": 311,
   "id": "0910a5b7",
   "metadata": {},
   "outputs": [],
   "source": [
    "#df = get_items_for_categories(desired_categories)"
   ]
  },
  {
   "cell_type": "markdown",
   "id": "a9ad5daa",
   "metadata": {},
   "source": [
    "## Salvar o DataFrame em um arquivo CSV"
   ]
  },
  {
   "cell_type": "code",
   "execution_count": 312,
   "id": "4f9085c5",
   "metadata": {},
   "outputs": [],
   "source": [
    "#df.to_csv('mercado_livre_data.csv', index=False)"
   ]
  },
  {
   "cell_type": "markdown",
   "id": "99ba996d",
   "metadata": {},
   "source": [
    "## Entendendo os dados"
   ]
  },
  {
   "cell_type": "code",
   "execution_count": 313,
   "id": "ee0592cd",
   "metadata": {
    "scrolled": true
   },
   "outputs": [
    {
     "name": "stdout",
     "output_type": "stream",
     "text": [
      "<class 'pandas.core.frame.DataFrame'>\n",
      "RangeIndex: 10948 entries, 0 to 10947\n",
      "Data columns (total 6 columns):\n",
      " #   Column              Non-Null Count  Dtype  \n",
      "---  ------              --------------  -----  \n",
      " 0   price               10948 non-null  float64\n",
      " 1   available_quantity  10948 non-null  int64  \n",
      " 2   condition           10948 non-null  object \n",
      " 3   title               10948 non-null  object \n",
      " 4   source_category     10948 non-null  object \n",
      " 5   sold_quantity       10948 non-null  int64  \n",
      "dtypes: float64(1), int64(2), object(3)\n",
      "memory usage: 513.3+ KB\n"
     ]
    }
   ],
   "source": [
    "df.info()"
   ]
  },
  {
   "cell_type": "code",
   "execution_count": 314,
   "id": "4556d107",
   "metadata": {},
   "outputs": [
    {
     "data": {
      "text/html": [
       "<div>\n",
       "<style scoped>\n",
       "    .dataframe tbody tr th:only-of-type {\n",
       "        vertical-align: middle;\n",
       "    }\n",
       "\n",
       "    .dataframe tbody tr th {\n",
       "        vertical-align: top;\n",
       "    }\n",
       "\n",
       "    .dataframe thead th {\n",
       "        text-align: right;\n",
       "    }\n",
       "</style>\n",
       "<table border=\"1\" class=\"dataframe\">\n",
       "  <thead>\n",
       "    <tr style=\"text-align: right;\">\n",
       "      <th></th>\n",
       "      <th>price</th>\n",
       "      <th>available_quantity</th>\n",
       "      <th>condition</th>\n",
       "      <th>title</th>\n",
       "      <th>source_category</th>\n",
       "      <th>sold_quantity</th>\n",
       "    </tr>\n",
       "  </thead>\n",
       "  <tbody>\n",
       "    <tr>\n",
       "      <th>0</th>\n",
       "      <td>20.90</td>\n",
       "      <td>1</td>\n",
       "      <td>new</td>\n",
       "      <td>Shampoo Regular Johnson's Baby 200ml</td>\n",
       "      <td>MLB1384</td>\n",
       "      <td>500</td>\n",
       "    </tr>\n",
       "    <tr>\n",
       "      <th>1</th>\n",
       "      <td>124.90</td>\n",
       "      <td>150</td>\n",
       "      <td>new</td>\n",
       "      <td>Pampers Limpeza Delicada Lenços Umedecidos 576 Un</td>\n",
       "      <td>MLB1384</td>\n",
       "      <td>500</td>\n",
       "    </tr>\n",
       "    <tr>\n",
       "      <th>2</th>\n",
       "      <td>88.04</td>\n",
       "      <td>500</td>\n",
       "      <td>new</td>\n",
       "      <td>Fraldas Pampers Confort Sec G 70 U</td>\n",
       "      <td>MLB1384</td>\n",
       "      <td>5000</td>\n",
       "    </tr>\n",
       "    <tr>\n",
       "      <th>3</th>\n",
       "      <td>81.61</td>\n",
       "      <td>500</td>\n",
       "      <td>new</td>\n",
       "      <td>Kit 21 Pçs Maternidade Roupa De Bebê Frete Gratis</td>\n",
       "      <td>MLB1384</td>\n",
       "      <td>5000</td>\n",
       "    </tr>\n",
       "    <tr>\n",
       "      <th>4</th>\n",
       "      <td>19.49</td>\n",
       "      <td>1</td>\n",
       "      <td>new</td>\n",
       "      <td>Meia Bebê Com 3 Pares De Algodão Confortável B...</td>\n",
       "      <td>MLB1384</td>\n",
       "      <td>50</td>\n",
       "    </tr>\n",
       "  </tbody>\n",
       "</table>\n",
       "</div>"
      ],
      "text/plain": [
       "    price  available_quantity condition  \\\n",
       "0   20.90                   1       new   \n",
       "1  124.90                 150       new   \n",
       "2   88.04                 500       new   \n",
       "3   81.61                 500       new   \n",
       "4   19.49                   1       new   \n",
       "\n",
       "                                               title source_category  \\\n",
       "0               Shampoo Regular Johnson's Baby 200ml         MLB1384   \n",
       "1  Pampers Limpeza Delicada Lenços Umedecidos 576 Un         MLB1384   \n",
       "2                 Fraldas Pampers Confort Sec G 70 U         MLB1384   \n",
       "3  Kit 21 Pçs Maternidade Roupa De Bebê Frete Gratis         MLB1384   \n",
       "4  Meia Bebê Com 3 Pares De Algodão Confortável B...         MLB1384   \n",
       "\n",
       "   sold_quantity  \n",
       "0            500  \n",
       "1            500  \n",
       "2           5000  \n",
       "3           5000  \n",
       "4             50  "
      ]
     },
     "execution_count": 314,
     "metadata": {},
     "output_type": "execute_result"
    }
   ],
   "source": [
    "df.head(5)"
   ]
  },
  {
   "cell_type": "code",
   "execution_count": 315,
   "id": "fcf582be",
   "metadata": {},
   "outputs": [
    {
     "name": "stdout",
     "output_type": "stream",
     "text": [
      "['MLB1384' 'MLB1246' 'MLB1132' 'MLB1430' 'MLB3937' 'MLB1648' 'MLB1051'\n",
      " 'MLB1574' 'MLB12404' 'MLB1000' 'MLB1276']\n"
     ]
    }
   ],
   "source": [
    "unique_categories = df['source_category'].unique()\n",
    "print(unique_categories)"
   ]
  },
  {
   "cell_type": "markdown",
   "id": "0090d440",
   "metadata": {},
   "source": [
    "## Quantidade de elementos em cada categoria"
   ]
  },
  {
   "cell_type": "code",
   "execution_count": 316,
   "id": "bbb9145b",
   "metadata": {},
   "outputs": [
    {
     "name": "stdout",
     "output_type": "stream",
     "text": [
      "MLB12404    1000\n",
      "MLB1276     1000\n",
      "MLB1384      999\n",
      "MLB1246      998\n",
      "MLB1132      998\n",
      "MLB1430      998\n",
      "MLB3937      998\n",
      "MLB1000      998\n",
      "MLB1648      996\n",
      "MLB1051      994\n",
      "MLB1574      969\n",
      "Name: source_category, dtype: int64\n"
     ]
    }
   ],
   "source": [
    "category_counts = df['source_category'].value_counts()\n",
    "print(category_counts)"
   ]
  },
  {
   "cell_type": "markdown",
   "id": "22326ae4",
   "metadata": {},
   "source": [
    "## Carregando os dados"
   ]
  },
  {
   "cell_type": "code",
   "execution_count": 317,
   "id": "bd7bb199",
   "metadata": {},
   "outputs": [],
   "source": [
    "df = pd.read_csv(\"mercado_livre_data.csv\")"
   ]
  },
  {
   "cell_type": "markdown",
   "id": "0ad9cfc7",
   "metadata": {},
   "source": [
    "## Categoria com o maior número total de vendas."
   ]
  },
  {
   "cell_type": "code",
   "execution_count": 318,
   "id": "660deed8",
   "metadata": {},
   "outputs": [
    {
     "name": "stdout",
     "output_type": "stream",
     "text": [
      "A categoria com o maior número de vendas é: MLB1574\n"
     ]
    }
   ],
   "source": [
    "df['sold_quantity'] = df['sold_quantity'].astype(int)\n",
    "sales_by_category = df.groupby('source_category')['sold_quantity'].sum()\n",
    "max_sales_category = sales_by_category.idxmax()\n",
    "\n",
    "print(f\"A categoria com o maior número de vendas é: {max_sales_category}\")\n"
   ]
  },
  {
   "cell_type": "markdown",
   "id": "be156910",
   "metadata": {},
   "source": [
    "## Obtendo informações relevantes sobre cada categoria"
   ]
  },
  {
   "cell_type": "code",
   "execution_count": 319,
   "id": "10966629",
   "metadata": {},
   "outputs": [
    {
     "name": "stdout",
     "output_type": "stream",
     "text": [
      "Categoria: MLB1384\n",
      "Preço médio: 127.06\n",
      "Preço mínimo: 5.00\n",
      "Preço máximo: 3999.99\n",
      "Produto mais popular: 10 Trava Gaveta Armário Segurança Protetor Proteção Bebe Inc\n",
      "Quantidade vendida do produto mais popular: 50000\n",
      "Preço do produto mais popular: 29.90\n",
      "\n",
      "\n",
      "Categoria: MLB1246\n",
      "Preço médio: 109.66\n",
      "Preço mínimo: 2.36\n",
      "Preço máximo: 999.99\n",
      "Produto mais popular: Touca Descartável Tnt C/ Elástico C/100 C/ Nota\n",
      "Quantidade vendida do produto mais popular: 50000\n",
      "Preço do produto mais popular: 15.50\n",
      "\n",
      "\n",
      "Categoria: MLB1132\n",
      "Preço médio: 145.59\n",
      "Preço mínimo: 9.77\n",
      "Preço máximo: 2542.50\n",
      "Produto mais popular: Micro Servo Motor 9g Sg90 Kit Com 4 Unidades - Nfe\n",
      "Quantidade vendida do produto mais popular: 5000\n",
      "Preço do produto mais popular: 44.90\n",
      "\n",
      "\n",
      "Categoria: MLB1430\n",
      "Preço médio: 117.50\n",
      "Preço mínimo: 7.00\n",
      "Preço máximo: 3600.00\n",
      "Produto mais popular: Meias Masculino Kit 12 Pares Esportes Atacado Revenda Oferta\n",
      "Quantidade vendida do produto mais popular: 50000\n",
      "Preço do produto mais popular: 34.11\n",
      "\n",
      "\n",
      "Categoria: MLB3937\n",
      "Preço médio: 274.26\n",
      "Preço mínimo: 10.28\n",
      "Preço máximo: 7267.00\n",
      "Produto mais popular: Kit Monzi 35ml:limpa Prata+limpa Chapeado+limpa Joia+flanela\n",
      "Quantidade vendida do produto mais popular: 5000\n",
      "Preço do produto mais popular: 33.84\n",
      "\n",
      "\n",
      "Categoria: MLB1648\n",
      "Preço médio: 744.44\n",
      "Preço mínimo: 7.06\n",
      "Preço máximo: 16859.00\n",
      "Produto mais popular: Cabo Hdmi 2.0 4k 3d Ultrahd 19 Pinos Chip 2 Metros 018-2222\n",
      "Quantidade vendida do produto mais popular: 50000\n",
      "Preço do produto mais popular: 19.96\n",
      "\n",
      "\n",
      "Categoria: MLB1051\n",
      "Preço médio: 776.45\n",
      "Preço mínimo: 7.00\n",
      "Preço máximo: 8147.00\n",
      "Produto mais popular: Película De Vidro 3d P/ iPhone 7/8 Plus Xs Xr 11 Pro Max 12\n",
      "Quantidade vendida do produto mais popular: 50000\n",
      "Preço do produto mais popular: 19.90\n",
      "\n",
      "\n",
      "Categoria: MLB1574\n",
      "Preço médio: 113.64\n",
      "Preço mínimo: 5.00\n",
      "Preço máximo: 2399.90\n",
      "Produto mais popular: Balança Digital De Precisão Cozinha 10kg Nutrição E Dieta\n",
      "Quantidade vendida do produto mais popular: 50000\n",
      "Preço do produto mais popular: 24.49\n",
      "\n",
      "\n",
      "Categoria: MLB12404\n",
      "Preço médio: 69.99\n",
      "Preço mínimo: 8.12\n",
      "Preço máximo: 999.90\n",
      "Produto mais popular: Inflador Elétrico Balão Compressor Bomba 2 Bicos Festa\n",
      "Quantidade vendida do produto mais popular: 5000\n",
      "Preço do produto mais popular: 134.90\n",
      "\n",
      "\n",
      "Categoria: MLB1000\n",
      "Preço médio: 1124.62\n",
      "Preço mínimo: 5.94\n",
      "Preço máximo: 44999.95\n",
      "Produto mais popular: Cabo Conversor Adaptador Hdmi Para Vga Com Saída P2 Áudio\n",
      "Quantidade vendida do produto mais popular: 50000\n",
      "Preço do produto mais popular: 22.49\n",
      "\n",
      "\n",
      "Categoria: MLB1276\n",
      "Preço médio: 173.99\n",
      "Preço mínimo: 10.52\n",
      "Preço máximo: 3999.00\n",
      "Produto mais popular: Transbike Gtsm1 Force Para 2 Bicicletas Aço Cl\n",
      "Quantidade vendida do produto mais popular: 5000\n",
      "Preço do produto mais popular: 148.57\n",
      "\n",
      "\n"
     ]
    }
   ],
   "source": [
    "categorias = df['source_category'].unique()\n",
    "\n",
    "for categoria in categorias:\n",
    "    analise_categoria(df, categoria)"
   ]
  },
  {
   "cell_type": "markdown",
   "id": "574e2fd3",
   "metadata": {},
   "source": [
    "## Treinando o modelo para prever quantidade de vendas"
   ]
  },
  {
   "cell_type": "code",
   "execution_count": 320,
   "id": "fd1fdfa9",
   "metadata": {},
   "outputs": [
    {
     "name": "stdout",
     "output_type": "stream",
     "text": [
      "<class 'pandas.core.frame.DataFrame'>\n",
      "RangeIndex: 10948 entries, 0 to 10947\n",
      "Data columns (total 40 columns):\n",
      " #   Column                Non-Null Count  Dtype  \n",
      "---  ------                --------------  -----  \n",
      " 0   id                    10948 non-null  object \n",
      " 1   title                 10948 non-null  object \n",
      " 2   condition             10948 non-null  object \n",
      " 3   thumbnail_id          10948 non-null  object \n",
      " 4   catalog_product_id    6154 non-null   object \n",
      " 5   listing_type_id       10948 non-null  object \n",
      " 6   permalink             10948 non-null  object \n",
      " 7   buying_mode           10948 non-null  object \n",
      " 8   site_id               10948 non-null  object \n",
      " 9   category_id           10948 non-null  object \n",
      " 10  domain_id             10948 non-null  object \n",
      " 11  thumbnail             10948 non-null  object \n",
      " 12  currency_id           10948 non-null  object \n",
      " 13  order_backend         10948 non-null  int64  \n",
      " 14  price                 10948 non-null  float64\n",
      " 15  original_price        3093 non-null   float64\n",
      " 16  sale_price            0 non-null      float64\n",
      " 17  sold_quantity         10948 non-null  int32  \n",
      " 18  available_quantity    10948 non-null  int64  \n",
      " 19  official_store_id     1375 non-null   float64\n",
      " 20  official_store_name   1315 non-null   object \n",
      " 21  use_thumbnail_id      10948 non-null  bool   \n",
      " 22  accepts_mercadopago   10948 non-null  bool   \n",
      " 23  tags                  10948 non-null  object \n",
      " 24  shipping              10948 non-null  object \n",
      " 25  stop_time             10948 non-null  object \n",
      " 26  seller                10948 non-null  object \n",
      " 27  seller_address        10948 non-null  object \n",
      " 28  address               10948 non-null  object \n",
      " 29  attributes            10948 non-null  object \n",
      " 30  installments          10948 non-null  object \n",
      " 31  winner_item_id        0 non-null      float64\n",
      " 32  catalog_listing       5238 non-null   object \n",
      " 33  discounts             0 non-null      float64\n",
      " 34  promotions            10948 non-null  object \n",
      " 35  inventory_id          3151 non-null   object \n",
      " 36  source_category       10948 non-null  object \n",
      " 37  variation_filters     3560 non-null   object \n",
      " 38  variations_data       3560 non-null   object \n",
      " 39  differential_pricing  4540 non-null   object \n",
      "dtypes: bool(2), float64(6), int32(1), int64(2), object(29)\n",
      "memory usage: 3.2+ MB\n"
     ]
    }
   ],
   "source": [
    "df.info()"
   ]
  },
  {
   "cell_type": "code",
   "execution_count": 321,
   "id": "4bc11d36",
   "metadata": {},
   "outputs": [
    {
     "name": "stdout",
     "output_type": "stream",
     "text": [
      "RMSE: 1947.2592363419699\n"
     ]
    }
   ],
   "source": [
    "features = ['price', 'available_quantity', 'condition']\n",
    "\n",
    "for feature in features:\n",
    "    if df[feature].dtype == 'object':\n",
    "        df[feature] = df[feature].fillna('missing')\n",
    "    else:\n",
    "        df[feature] = df[feature].fillna(0)\n",
    "\n",
    "X = df[features]\n",
    "y = df['sold_quantity']\n",
    "\n",
    "# Pré-processamento para variáveis categóricas e númericas\n",
    "categorical_transformer = Pipeline(steps=[\n",
    "    ('onehot', OneHotEncoder(handle_unknown='ignore'))])\n",
    "\n",
    "numerical_transformer = Pipeline(steps=[\n",
    "    ('scaler', StandardScaler())])\n",
    "\n",
    "preprocessor = ColumnTransformer(\n",
    "    transformers=[\n",
    "        ('num', numerical_transformer, ['price', 'available_quantity']),\n",
    "        ('cat', categorical_transformer, ['condition'])])\n",
    "\n",
    "model = RandomForestRegressor(n_estimators=100, random_state=0)\n",
    "\n",
    "clf = Pipeline(steps=[('preprocessor', preprocessor),\n",
    "                      ('model', model)])\n",
    "\n",
    "X_train, X_test, y_train, y_test = train_test_split(X, y, test_size=0.2, random_state=42)\n",
    "\n",
    "clf.fit(X_train, y_train)\n",
    "\n",
    "# Fazendo previsões\n",
    "preds = clf.predict(X_test)\n",
    "\n",
    "# Avaliando o modelo\n",
    "rmse = mean_squared_error(y_test, preds, squared=False)\n",
    "print('RMSE:', rmse)"
   ]
  },
  {
   "cell_type": "markdown",
   "id": "8d0fea83",
   "metadata": {},
   "source": [
    "# Teste de previsão"
   ]
  },
  {
   "cell_type": "code",
   "execution_count": 322,
   "id": "a0d67dd1",
   "metadata": {},
   "outputs": [
    {
     "name": "stdout",
     "output_type": "stream",
     "text": [
      "Previsão de quantidade vendida: [120.64166565]\n"
     ]
    }
   ],
   "source": [
    "test_data = {\n",
    "    'price': [100.0],\n",
    "    'available_quantity': [10],\n",
    "    'condition': ['new']\n",
    "}\n",
    "\n",
    "df_test = pd.DataFrame(test_data)\n",
    "pred_test = clf.predict(df_test)\n",
    "print('Previsão de quantidade vendida:', pred_test)\n"
   ]
  }
 ],
 "metadata": {
  "kernelspec": {
   "display_name": "Python 3 (ipykernel)",
   "language": "python",
   "name": "python3"
  },
  "language_info": {
   "codemirror_mode": {
    "name": "ipython",
    "version": 3
   },
   "file_extension": ".py",
   "mimetype": "text/x-python",
   "name": "python",
   "nbconvert_exporter": "python",
   "pygments_lexer": "ipython3",
   "version": "3.10.9"
  }
 },
 "nbformat": 4,
 "nbformat_minor": 5
}
