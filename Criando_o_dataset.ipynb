{
 "cells": [
  {
   "cell_type": "code",
   "execution_count": null,
   "id": "10f5128c",
   "metadata": {},
   "outputs": [],
   "source": [
    "# Importando as bibliotecas\n",
    "import pandas as pd\n",
    "\n",
    "# Lendo os arquivos .csv\n",
    "item_categories = pd.read_csv('database/item_categories.csv')\n",
    "items = pd.read_csv('database/items.csv')\n",
    "sales_train = pd.read_csv('database/sales_train.csv')\n",
    "shops = pd.read_csv('database/shops.csv')\n",
    "\n",
    "# Convertendo a coluna 'date' para o tipo datetime\n",
    "sales_train['date'] = pd.to_datetime(sales_train['date'], format='%d.%m.%Y')\n",
    "\n",
    "# Combinando os DataFrames \n",
    "sales = pd.merge(sales_train, items, on='item_id', how='left')\n",
    "sales = pd.merge(sales, item_categories, on='item_category_id', how='left')\n",
    "sales = pd.merge(sales, shops, on='shop_id', how='left')\n",
    "\n",
    "# Exportando o DataFrame combinado para um arquivo .csv\n",
    "sales.to_csv('database/combined_sales.csv', index=False)\n"
   ]
  }
 ],
 "metadata": {
  "kernelspec": {
   "display_name": "Python 3 (ipykernel)",
   "language": "python",
   "name": "python3"
  },
  "language_info": {
   "codemirror_mode": {
    "name": "ipython",
    "version": 3
   },
   "file_extension": ".py",
   "mimetype": "text/x-python",
   "name": "python",
   "nbconvert_exporter": "python",
   "pygments_lexer": "ipython3",
   "version": "3.10.9"
  }
 },
 "nbformat": 4,
 "nbformat_minor": 5
}
